{
  "nbformat": 4,
  "nbformat_minor": 0,
  "metadata": {
    "colab": {
      "provenance": []
    },
    "kernelspec": {
      "name": "python3",
      "display_name": "Python 3"
    },
    "language_info": {
      "name": "python"
    }
  },
  "cells": [
    {
      "cell_type": "code",
      "execution_count": 1,
      "metadata": {
        "id": "im8xi4vX22JR"
      },
      "outputs": [],
      "source": [
        "# 1. Parameter\n",
        "a = 5    # Konstanta pengali\n",
        "m = 8    # Modulus\n",
        "Z0 = 42  # Seed (bilangan awal)"
      ]
    },
    {
      "cell_type": "markdown",
      "source": [
        "Parameter ini menentukan perilaku generator bilangan acak:\n",
        "\n",
        "𝑎: Konstanta pengali menentukan skala perhitungan.\n",
        "\n",
        "𝑚: Modulus memastikan hasil tetap dalam batas tertentu (0 hingga 𝑚 − 1).\n",
        "\n",
        "Z0: Nilai awal yang digunakan untuk memulai penghitungan."
      ],
      "metadata": {
        "id": "mai-XChy25os"
      }
    },
    {
      "cell_type": "code",
      "source": [
        "# 2. Inisialisasi Daftar\n",
        "results = []    # List untuk menyimpan hasil\n",
        "teams = [\"Tim A\", \"Tim B\", \"Tim C\", \"Tim D\", \"Tim E\", \"Tim F\", \"Tim G\", \"Tim H\"]\n",
        "brackets = []   # List untuk menyimpan hasil bracket"
      ],
      "metadata": {
        "id": "Viw2xX_P27h2"
      },
      "execution_count": 2,
      "outputs": []
    },
    {
      "cell_type": "markdown",
      "source": [
        "Baris ini mendeklarasikan sebuah list kosong bernama results.\n",
        "List ini nantinya akan digunakan untuk menyimpan semua data hasil perhitungan dari algoritma random number generator (RNG) di setiap iterasi."
      ],
      "metadata": {
        "id": "-o1L-YTN2_95"
      }
    },
    {
      "cell_type": "code",
      "source": [
        "# 3. Algoritma RNG dan Pengacakan Tournament\n",
        "Z = Z0    # Bilangan awal\n",
        "available_teams = teams.copy()  # Daftar tim yang belum dipilih\n",
        "\n",
        "while len(available_teams) > 0:\n",
        "    # Generate bilangan acak\n",
        "    Z_prev = Z    # Menyimpan bilangan sebelumnya\n",
        "    Z = (a * Z) % m    # Menghitung bilangan acak selanjutnya\n",
        "    U = Z / m    # Menghitung bilangan acak seragam\n",
        "    rumus = f\"(5 * {Z_prev}) mod {m}\"    # Rumus yang digunakan\n",
        "\n",
        "    # Pilih tim berdasarkan bilangan acak\n",
        "    index = int(U * len(available_teams))\n",
        "    selected_team = available_teams.pop(index)\n",
        "\n",
        "    # Simpan hasil perhitungan RNG\n",
        "    results.append([len(teams) - len(available_teams), Z_prev, rumus, Z, round(U, 3), selected_team])\n",
        "\n",
        "    # Buat bracket setiap 2 tim terpilih\n",
        "    if len(results) % 2 == 0:\n",
        "        match = (results[-2][5], results[-1][5])\n",
        "        brackets.append(match)"
      ],
      "metadata": {
        "id": "N30JFU-Y3K18"
      },
      "execution_count": 3,
      "outputs": []
    },
    {
      "cell_type": "markdown",
      "source": [
        "- Menggunakan rumus LCG: Zi = (a × Zi-1) mod m\n",
        "\n",
        "- Setiap bilangan acak digunakan untuk memilih tim\n",
        "\n",
        "- Tim yang sudah terpilih dihapus dari daftar available_teams\n",
        "\n",
        "- Setiap 2 tim terpilih, dibuat pasangan pertandingan\n",
        "\n"
      ],
      "metadata": {
        "id": "OsMLDXuz3Qne"
      }
    },
    {
      "cell_type": "code",
      "source": [
        "# 4. Output Hasil RNG\n",
        "print(\"=== Proses Pengacakan dengan RNG ===\")\n",
        "print(f\"{'i':<3} | {'Zi-1':<5} | {'Rumus Zi = (5.Zi-1) mod 8':<25} | {'Zi':<5} | {'Ui':<6} | {'Tim Terpilih':<10}\")\n",
        "print(\"-\" * 70)\n",
        "for row in results:\n",
        "    print(f\"{row[0]:<3} | {row[1]:<5} | {row[2]:<25} | {row[3]:<5} | {row[4]:<6} | {row[5]:<10}\")"
      ],
      "metadata": {
        "colab": {
          "base_uri": "https://localhost:8080/"
        },
        "id": "ltvXuMhm3fk3",
        "outputId": "5607b9bc-3bf3-4c76-b809-52f86f3f3473"
      },
      "execution_count": 4,
      "outputs": [
        {
          "output_type": "stream",
          "name": "stdout",
          "text": [
            "=== Proses Pengacakan dengan RNG ===\n",
            "i   | Zi-1  | Rumus Zi = (5.Zi-1) mod 8 | Zi    | Ui     | Tim Terpilih\n",
            "----------------------------------------------------------------------\n",
            "1   | 42    | (5 * 42) mod 8            | 2     | 0.25   | Tim C     \n",
            "2   | 2     | (5 * 2) mod 8             | 2     | 0.25   | Tim B     \n",
            "3   | 2     | (5 * 2) mod 8             | 2     | 0.25   | Tim D     \n",
            "4   | 2     | (5 * 2) mod 8             | 2     | 0.25   | Tim E     \n",
            "5   | 2     | (5 * 2) mod 8             | 2     | 0.25   | Tim F     \n",
            "6   | 2     | (5 * 2) mod 8             | 2     | 0.25   | Tim A     \n",
            "7   | 2     | (5 * 2) mod 8             | 2     | 0.25   | Tim G     \n",
            "8   | 2     | (5 * 2) mod 8             | 2     | 0.25   | Tim H     \n"
          ]
        }
      ]
    },
    {
      "cell_type": "code",
      "source": [
        "# 5. Output Hasil Bracket\n",
        "print(\"\\n=== Hasil Bracket Tournament ===\")\n",
        "for i, match in enumerate(brackets, 1):\n",
        "    print(f\"Pertandingan {i}: {match[0]} vs {match[1]}\")"
      ],
      "metadata": {
        "colab": {
          "base_uri": "https://localhost:8080/"
        },
        "id": "odkzJhGY3oij",
        "outputId": "32b7fa0d-2442-48cf-933c-75db94567ac5"
      },
      "execution_count": 5,
      "outputs": [
        {
          "output_type": "stream",
          "name": "stdout",
          "text": [
            "\n",
            "=== Hasil Bracket Tournament ===\n",
            "Pertandingan 1: Tim C vs Tim B\n",
            "Pertandingan 2: Tim D vs Tim E\n",
            "Pertandingan 3: Tim F vs Tim A\n",
            "Pertandingan 4: Tim G vs Tim H\n"
          ]
        }
      ]
    }
  ]
}